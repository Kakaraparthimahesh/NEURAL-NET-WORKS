{
  "cells": [
    {
      "cell_type": "code",
      "execution_count": 51,
      "metadata": {
        "colab": {
          "base_uri": "https://localhost:8080/",
          "height": 74,
          "resources": {
            "http://localhost:8080/nbextensions/google.colab/files.js": {
              "data": "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",
              "headers": [
                [
                  "content-type",
                  "application/javascript"
                ]
              ],
              "ok": true,
              "status": 200,
              "status_text": ""
            }
          }
        },
        "id": "09h8PZsLV4jK",
        "outputId": "7e262e84-7f9b-4a3a-c9f5-497bd76642e6"
      },
      "outputs": [
        {
          "output_type": "display_data",
          "data": {
            "text/plain": [
              "<IPython.core.display.HTML object>"
            ],
            "text/html": [
              "\n",
              "     <input type=\"file\" id=\"files-070fc61c-0a82-44af-83f1-dbe0769d8ce0\" name=\"files[]\" multiple disabled\n",
              "        style=\"border:none\" />\n",
              "     <output id=\"result-070fc61c-0a82-44af-83f1-dbe0769d8ce0\">\n",
              "      Upload widget is only available when the cell has been executed in the\n",
              "      current browser session. Please rerun this cell to enable.\n",
              "      </output>\n",
              "      <script src=\"/nbextensions/google.colab/files.js\"></script> "
            ]
          },
          "metadata": {}
        },
        {
          "output_type": "stream",
          "name": "stdout",
          "text": [
            "Saving gas_turbines.csv to gas_turbines.csv\n"
          ]
        }
      ],
      "source": [
        "from google.colab import files\n",
        "uploaded = files.upload()"
      ]
    },
    {
      "cell_type": "markdown",
      "source": [
        "Required **libraries**"
      ],
      "metadata": {
        "id": "tuoiu6rLFG4s"
      }
    },
    {
      "cell_type": "code",
      "source": [
        "import pandas as pd\n",
        "from sklearn.preprocessing import LabelEncoder\n",
        "from tensorflow.keras.layers import Dense\n",
        "from tensorflow.keras.models import Sequential\n",
        "import matplotlib.pyplot as plt"
      ],
      "metadata": {
        "id": "N5q9Hhwx-GNP"
      },
      "execution_count": 52,
      "outputs": []
    },
    {
      "cell_type": "markdown",
      "source": [
        "Data Preprocessing "
      ],
      "metadata": {
        "id": "MdJW3-bJF8VK"
      }
    },
    {
      "cell_type": "code",
      "source": [
        "Gasturbines_data = pd.read_csv(\"gas_turbines.csv\")"
      ],
      "metadata": {
        "id": "PBg9geUhFk4U"
      },
      "execution_count": 53,
      "outputs": []
    },
    {
      "cell_type": "code",
      "source": [
        "Gasturbines_data"
      ],
      "metadata": {
        "id": "QO8E4OO_Gx1B",
        "colab": {
          "base_uri": "https://localhost:8080/",
          "height": 424
        },
        "outputId": "79401933-dfb3-4398-db2d-ed7eba695d80"
      },
      "execution_count": 54,
      "outputs": [
        {
          "output_type": "execute_result",
          "data": {
            "text/plain": [
              "           AT      AP      AH    AFDP    GTEP     TIT     TAT     TEY     CDP  \\\n",
              "0      6.8594  1007.9  96.799  3.5000  19.663  1059.2  550.00  114.70  10.605   \n",
              "1      6.7850  1008.4  97.118  3.4998  19.728  1059.3  550.00  114.72  10.598   \n",
              "2      6.8977  1008.8  95.939  3.4824  19.779  1059.4  549.87  114.71  10.601   \n",
              "3      7.0569  1009.2  95.249  3.4805  19.792  1059.6  549.99  114.72  10.606   \n",
              "4      7.3978  1009.7  95.150  3.4976  19.765  1059.7  549.98  114.72  10.612   \n",
              "...       ...     ...     ...     ...     ...     ...     ...     ...     ...   \n",
              "15034  9.0301  1005.6  98.460  3.5421  19.164  1049.7  546.21  111.61  10.400   \n",
              "15035  7.8879  1005.9  99.093  3.5059  19.414  1046.3  543.22  111.78  10.433   \n",
              "15036  7.2647  1006.3  99.496  3.4770  19.530  1037.7  537.32  110.19  10.483   \n",
              "15037  7.0060  1006.8  99.008  3.4486  19.377  1043.2  541.24  110.74  10.533   \n",
              "15038  6.9279  1007.2  97.533  3.4275  19.306  1049.9  545.85  111.58  10.583   \n",
              "\n",
              "           CO     NOX  \n",
              "0      3.1547  82.722  \n",
              "1      3.2363  82.776  \n",
              "2      3.2012  82.468  \n",
              "3      3.1923  82.670  \n",
              "4      3.2484  82.311  \n",
              "...       ...     ...  \n",
              "15034  4.5186  79.559  \n",
              "15035  4.8470  79.917  \n",
              "15036  7.9632  90.912  \n",
              "15037  6.2494  93.227  \n",
              "15038  4.9816  92.498  \n",
              "\n",
              "[15039 rows x 11 columns]"
            ],
            "text/html": [
              "\n",
              "  <div id=\"df-f75878d5-8455-4823-967e-17749cbffd08\">\n",
              "    <div class=\"colab-df-container\">\n",
              "      <div>\n",
              "<style scoped>\n",
              "    .dataframe tbody tr th:only-of-type {\n",
              "        vertical-align: middle;\n",
              "    }\n",
              "\n",
              "    .dataframe tbody tr th {\n",
              "        vertical-align: top;\n",
              "    }\n",
              "\n",
              "    .dataframe thead th {\n",
              "        text-align: right;\n",
              "    }\n",
              "</style>\n",
              "<table border=\"1\" class=\"dataframe\">\n",
              "  <thead>\n",
              "    <tr style=\"text-align: right;\">\n",
              "      <th></th>\n",
              "      <th>AT</th>\n",
              "      <th>AP</th>\n",
              "      <th>AH</th>\n",
              "      <th>AFDP</th>\n",
              "      <th>GTEP</th>\n",
              "      <th>TIT</th>\n",
              "      <th>TAT</th>\n",
              "      <th>TEY</th>\n",
              "      <th>CDP</th>\n",
              "      <th>CO</th>\n",
              "      <th>NOX</th>\n",
              "    </tr>\n",
              "  </thead>\n",
              "  <tbody>\n",
              "    <tr>\n",
              "      <th>0</th>\n",
              "      <td>6.8594</td>\n",
              "      <td>1007.9</td>\n",
              "      <td>96.799</td>\n",
              "      <td>3.5000</td>\n",
              "      <td>19.663</td>\n",
              "      <td>1059.2</td>\n",
              "      <td>550.00</td>\n",
              "      <td>114.70</td>\n",
              "      <td>10.605</td>\n",
              "      <td>3.1547</td>\n",
              "      <td>82.722</td>\n",
              "    </tr>\n",
              "    <tr>\n",
              "      <th>1</th>\n",
              "      <td>6.7850</td>\n",
              "      <td>1008.4</td>\n",
              "      <td>97.118</td>\n",
              "      <td>3.4998</td>\n",
              "      <td>19.728</td>\n",
              "      <td>1059.3</td>\n",
              "      <td>550.00</td>\n",
              "      <td>114.72</td>\n",
              "      <td>10.598</td>\n",
              "      <td>3.2363</td>\n",
              "      <td>82.776</td>\n",
              "    </tr>\n",
              "    <tr>\n",
              "      <th>2</th>\n",
              "      <td>6.8977</td>\n",
              "      <td>1008.8</td>\n",
              "      <td>95.939</td>\n",
              "      <td>3.4824</td>\n",
              "      <td>19.779</td>\n",
              "      <td>1059.4</td>\n",
              "      <td>549.87</td>\n",
              "      <td>114.71</td>\n",
              "      <td>10.601</td>\n",
              "      <td>3.2012</td>\n",
              "      <td>82.468</td>\n",
              "    </tr>\n",
              "    <tr>\n",
              "      <th>3</th>\n",
              "      <td>7.0569</td>\n",
              "      <td>1009.2</td>\n",
              "      <td>95.249</td>\n",
              "      <td>3.4805</td>\n",
              "      <td>19.792</td>\n",
              "      <td>1059.6</td>\n",
              "      <td>549.99</td>\n",
              "      <td>114.72</td>\n",
              "      <td>10.606</td>\n",
              "      <td>3.1923</td>\n",
              "      <td>82.670</td>\n",
              "    </tr>\n",
              "    <tr>\n",
              "      <th>4</th>\n",
              "      <td>7.3978</td>\n",
              "      <td>1009.7</td>\n",
              "      <td>95.150</td>\n",
              "      <td>3.4976</td>\n",
              "      <td>19.765</td>\n",
              "      <td>1059.7</td>\n",
              "      <td>549.98</td>\n",
              "      <td>114.72</td>\n",
              "      <td>10.612</td>\n",
              "      <td>3.2484</td>\n",
              "      <td>82.311</td>\n",
              "    </tr>\n",
              "    <tr>\n",
              "      <th>...</th>\n",
              "      <td>...</td>\n",
              "      <td>...</td>\n",
              "      <td>...</td>\n",
              "      <td>...</td>\n",
              "      <td>...</td>\n",
              "      <td>...</td>\n",
              "      <td>...</td>\n",
              "      <td>...</td>\n",
              "      <td>...</td>\n",
              "      <td>...</td>\n",
              "      <td>...</td>\n",
              "    </tr>\n",
              "    <tr>\n",
              "      <th>15034</th>\n",
              "      <td>9.0301</td>\n",
              "      <td>1005.6</td>\n",
              "      <td>98.460</td>\n",
              "      <td>3.5421</td>\n",
              "      <td>19.164</td>\n",
              "      <td>1049.7</td>\n",
              "      <td>546.21</td>\n",
              "      <td>111.61</td>\n",
              "      <td>10.400</td>\n",
              "      <td>4.5186</td>\n",
              "      <td>79.559</td>\n",
              "    </tr>\n",
              "    <tr>\n",
              "      <th>15035</th>\n",
              "      <td>7.8879</td>\n",
              "      <td>1005.9</td>\n",
              "      <td>99.093</td>\n",
              "      <td>3.5059</td>\n",
              "      <td>19.414</td>\n",
              "      <td>1046.3</td>\n",
              "      <td>543.22</td>\n",
              "      <td>111.78</td>\n",
              "      <td>10.433</td>\n",
              "      <td>4.8470</td>\n",
              "      <td>79.917</td>\n",
              "    </tr>\n",
              "    <tr>\n",
              "      <th>15036</th>\n",
              "      <td>7.2647</td>\n",
              "      <td>1006.3</td>\n",
              "      <td>99.496</td>\n",
              "      <td>3.4770</td>\n",
              "      <td>19.530</td>\n",
              "      <td>1037.7</td>\n",
              "      <td>537.32</td>\n",
              "      <td>110.19</td>\n",
              "      <td>10.483</td>\n",
              "      <td>7.9632</td>\n",
              "      <td>90.912</td>\n",
              "    </tr>\n",
              "    <tr>\n",
              "      <th>15037</th>\n",
              "      <td>7.0060</td>\n",
              "      <td>1006.8</td>\n",
              "      <td>99.008</td>\n",
              "      <td>3.4486</td>\n",
              "      <td>19.377</td>\n",
              "      <td>1043.2</td>\n",
              "      <td>541.24</td>\n",
              "      <td>110.74</td>\n",
              "      <td>10.533</td>\n",
              "      <td>6.2494</td>\n",
              "      <td>93.227</td>\n",
              "    </tr>\n",
              "    <tr>\n",
              "      <th>15038</th>\n",
              "      <td>6.9279</td>\n",
              "      <td>1007.2</td>\n",
              "      <td>97.533</td>\n",
              "      <td>3.4275</td>\n",
              "      <td>19.306</td>\n",
              "      <td>1049.9</td>\n",
              "      <td>545.85</td>\n",
              "      <td>111.58</td>\n",
              "      <td>10.583</td>\n",
              "      <td>4.9816</td>\n",
              "      <td>92.498</td>\n",
              "    </tr>\n",
              "  </tbody>\n",
              "</table>\n",
              "<p>15039 rows × 11 columns</p>\n",
              "</div>\n",
              "      <button class=\"colab-df-convert\" onclick=\"convertToInteractive('df-f75878d5-8455-4823-967e-17749cbffd08')\"\n",
              "              title=\"Convert this dataframe to an interactive table.\"\n",
              "              style=\"display:none;\">\n",
              "        \n",
              "  <svg xmlns=\"http://www.w3.org/2000/svg\" height=\"24px\"viewBox=\"0 0 24 24\"\n",
              "       width=\"24px\">\n",
              "    <path d=\"M0 0h24v24H0V0z\" fill=\"none\"/>\n",
              "    <path d=\"M18.56 5.44l.94 2.06.94-2.06 2.06-.94-2.06-.94-.94-2.06-.94 2.06-2.06.94zm-11 1L8.5 8.5l.94-2.06 2.06-.94-2.06-.94L8.5 2.5l-.94 2.06-2.06.94zm10 10l.94 2.06.94-2.06 2.06-.94-2.06-.94-.94-2.06-.94 2.06-2.06.94z\"/><path d=\"M17.41 7.96l-1.37-1.37c-.4-.4-.92-.59-1.43-.59-.52 0-1.04.2-1.43.59L10.3 9.45l-7.72 7.72c-.78.78-.78 2.05 0 2.83L4 21.41c.39.39.9.59 1.41.59.51 0 1.02-.2 1.41-.59l7.78-7.78 2.81-2.81c.8-.78.8-2.07 0-2.86zM5.41 20L4 18.59l7.72-7.72 1.47 1.35L5.41 20z\"/>\n",
              "  </svg>\n",
              "      </button>\n",
              "      \n",
              "  <style>\n",
              "    .colab-df-container {\n",
              "      display:flex;\n",
              "      flex-wrap:wrap;\n",
              "      gap: 12px;\n",
              "    }\n",
              "\n",
              "    .colab-df-convert {\n",
              "      background-color: #E8F0FE;\n",
              "      border: none;\n",
              "      border-radius: 50%;\n",
              "      cursor: pointer;\n",
              "      display: none;\n",
              "      fill: #1967D2;\n",
              "      height: 32px;\n",
              "      padding: 0 0 0 0;\n",
              "      width: 32px;\n",
              "    }\n",
              "\n",
              "    .colab-df-convert:hover {\n",
              "      background-color: #E2EBFA;\n",
              "      box-shadow: 0px 1px 2px rgba(60, 64, 67, 0.3), 0px 1px 3px 1px rgba(60, 64, 67, 0.15);\n",
              "      fill: #174EA6;\n",
              "    }\n",
              "\n",
              "    [theme=dark] .colab-df-convert {\n",
              "      background-color: #3B4455;\n",
              "      fill: #D2E3FC;\n",
              "    }\n",
              "\n",
              "    [theme=dark] .colab-df-convert:hover {\n",
              "      background-color: #434B5C;\n",
              "      box-shadow: 0px 1px 3px 1px rgba(0, 0, 0, 0.15);\n",
              "      filter: drop-shadow(0px 1px 2px rgba(0, 0, 0, 0.3));\n",
              "      fill: #FFFFFF;\n",
              "    }\n",
              "  </style>\n",
              "\n",
              "      <script>\n",
              "        const buttonEl =\n",
              "          document.querySelector('#df-f75878d5-8455-4823-967e-17749cbffd08 button.colab-df-convert');\n",
              "        buttonEl.style.display =\n",
              "          google.colab.kernel.accessAllowed ? 'block' : 'none';\n",
              "\n",
              "        async function convertToInteractive(key) {\n",
              "          const element = document.querySelector('#df-f75878d5-8455-4823-967e-17749cbffd08');\n",
              "          const dataTable =\n",
              "            await google.colab.kernel.invokeFunction('convertToInteractive',\n",
              "                                                     [key], {});\n",
              "          if (!dataTable) return;\n",
              "\n",
              "          const docLinkHtml = 'Like what you see? Visit the ' +\n",
              "            '<a target=\"_blank\" href=https://colab.research.google.com/notebooks/data_table.ipynb>data table notebook</a>'\n",
              "            + ' to learn more about interactive tables.';\n",
              "          element.innerHTML = '';\n",
              "          dataTable['output_type'] = 'display_data';\n",
              "          await google.colab.output.renderOutput(dataTable, element);\n",
              "          const docLink = document.createElement('div');\n",
              "          docLink.innerHTML = docLinkHtml;\n",
              "          element.appendChild(docLink);\n",
              "        }\n",
              "      </script>\n",
              "    </div>\n",
              "  </div>\n",
              "  "
            ]
          },
          "metadata": {},
          "execution_count": 54
        }
      ]
    },
    {
      "cell_type": "code",
      "source": [
        "list(Gasturbines_data)"
      ],
      "metadata": {
        "colab": {
          "base_uri": "https://localhost:8080/"
        },
        "id": "6V1yjo-VMGl6",
        "outputId": "c199a48e-75e2-4213-d29c-c9920cf1dbfb"
      },
      "execution_count": 55,
      "outputs": [
        {
          "output_type": "execute_result",
          "data": {
            "text/plain": [
              "['AT', 'AP', 'AH', 'AFDP', 'GTEP', 'TIT', 'TAT', 'TEY', 'CDP', 'CO', 'NOX']"
            ]
          },
          "metadata": {},
          "execution_count": 55
        }
      ]
    },
    {
      "cell_type": "code",
      "source": [
        "Gasturbines_data.shape"
      ],
      "metadata": {
        "colab": {
          "base_uri": "https://localhost:8080/"
        },
        "id": "RNFEf-kXM6EC",
        "outputId": "3e080fef-8355-4582-ae0c-d97668faeca3"
      },
      "execution_count": 56,
      "outputs": [
        {
          "output_type": "execute_result",
          "data": {
            "text/plain": [
              "(15039, 11)"
            ]
          },
          "metadata": {},
          "execution_count": 56
        }
      ]
    },
    {
      "cell_type": "code",
      "source": [
        "Gasturbines_data.describe()"
      ],
      "metadata": {
        "colab": {
          "base_uri": "https://localhost:8080/",
          "height": 300
        },
        "id": "OFS0-bZJXgho",
        "outputId": "91b7f175-4d87-4df2-a9ca-437df762dec1"
      },
      "execution_count": 58,
      "outputs": [
        {
          "output_type": "execute_result",
          "data": {
            "text/plain": [
              "                 AT           AP            AH          AFDP          GTEP  \\\n",
              "count  15039.000000  15039.00000  15039.000000  15039.000000  15039.000000   \n",
              "mean      17.764381   1013.19924     79.124174      4.200294     25.419061   \n",
              "std        7.574323      6.41076     13.793439      0.760197      4.173916   \n",
              "min        0.522300    985.85000     30.344000      2.087400     17.878000   \n",
              "25%       11.408000   1008.90000     69.750000      3.723900     23.294000   \n",
              "50%       18.186000   1012.80000     82.266000      4.186200     25.082000   \n",
              "75%       23.862500   1016.90000     90.043500      4.550900     27.184000   \n",
              "max       34.929000   1034.20000    100.200000      7.610600     37.402000   \n",
              "\n",
              "                TIT           TAT           TEY           CDP            CO  \\\n",
              "count  15039.000000  15039.000000  15039.000000  15039.000000  15039.000000   \n",
              "mean    1083.798770    545.396183    134.188464     12.102353      1.972499   \n",
              "std       16.527806      7.866803     15.829717      1.103196      2.222206   \n",
              "min     1000.800000    512.450000    100.170000      9.904400      0.000388   \n",
              "25%     1079.600000    542.170000    127.985000     11.622000      0.858055   \n",
              "50%     1088.700000    549.890000    133.780000     12.025000      1.390200   \n",
              "75%     1096.000000    550.060000    140.895000     12.578000      2.160400   \n",
              "max     1100.800000    550.610000    174.610000     15.081000     44.103000   \n",
              "\n",
              "                NOX  \n",
              "count  15039.000000  \n",
              "mean      68.190934  \n",
              "std       10.470586  \n",
              "min       27.765000  \n",
              "25%       61.303500  \n",
              "50%       66.601000  \n",
              "75%       73.935500  \n",
              "max      119.890000  "
            ],
            "text/html": [
              "\n",
              "  <div id=\"df-b917708c-7d7d-4a4b-9a0b-345d798a3553\">\n",
              "    <div class=\"colab-df-container\">\n",
              "      <div>\n",
              "<style scoped>\n",
              "    .dataframe tbody tr th:only-of-type {\n",
              "        vertical-align: middle;\n",
              "    }\n",
              "\n",
              "    .dataframe tbody tr th {\n",
              "        vertical-align: top;\n",
              "    }\n",
              "\n",
              "    .dataframe thead th {\n",
              "        text-align: right;\n",
              "    }\n",
              "</style>\n",
              "<table border=\"1\" class=\"dataframe\">\n",
              "  <thead>\n",
              "    <tr style=\"text-align: right;\">\n",
              "      <th></th>\n",
              "      <th>AT</th>\n",
              "      <th>AP</th>\n",
              "      <th>AH</th>\n",
              "      <th>AFDP</th>\n",
              "      <th>GTEP</th>\n",
              "      <th>TIT</th>\n",
              "      <th>TAT</th>\n",
              "      <th>TEY</th>\n",
              "      <th>CDP</th>\n",
              "      <th>CO</th>\n",
              "      <th>NOX</th>\n",
              "    </tr>\n",
              "  </thead>\n",
              "  <tbody>\n",
              "    <tr>\n",
              "      <th>count</th>\n",
              "      <td>15039.000000</td>\n",
              "      <td>15039.00000</td>\n",
              "      <td>15039.000000</td>\n",
              "      <td>15039.000000</td>\n",
              "      <td>15039.000000</td>\n",
              "      <td>15039.000000</td>\n",
              "      <td>15039.000000</td>\n",
              "      <td>15039.000000</td>\n",
              "      <td>15039.000000</td>\n",
              "      <td>15039.000000</td>\n",
              "      <td>15039.000000</td>\n",
              "    </tr>\n",
              "    <tr>\n",
              "      <th>mean</th>\n",
              "      <td>17.764381</td>\n",
              "      <td>1013.19924</td>\n",
              "      <td>79.124174</td>\n",
              "      <td>4.200294</td>\n",
              "      <td>25.419061</td>\n",
              "      <td>1083.798770</td>\n",
              "      <td>545.396183</td>\n",
              "      <td>134.188464</td>\n",
              "      <td>12.102353</td>\n",
              "      <td>1.972499</td>\n",
              "      <td>68.190934</td>\n",
              "    </tr>\n",
              "    <tr>\n",
              "      <th>std</th>\n",
              "      <td>7.574323</td>\n",
              "      <td>6.41076</td>\n",
              "      <td>13.793439</td>\n",
              "      <td>0.760197</td>\n",
              "      <td>4.173916</td>\n",
              "      <td>16.527806</td>\n",
              "      <td>7.866803</td>\n",
              "      <td>15.829717</td>\n",
              "      <td>1.103196</td>\n",
              "      <td>2.222206</td>\n",
              "      <td>10.470586</td>\n",
              "    </tr>\n",
              "    <tr>\n",
              "      <th>min</th>\n",
              "      <td>0.522300</td>\n",
              "      <td>985.85000</td>\n",
              "      <td>30.344000</td>\n",
              "      <td>2.087400</td>\n",
              "      <td>17.878000</td>\n",
              "      <td>1000.800000</td>\n",
              "      <td>512.450000</td>\n",
              "      <td>100.170000</td>\n",
              "      <td>9.904400</td>\n",
              "      <td>0.000388</td>\n",
              "      <td>27.765000</td>\n",
              "    </tr>\n",
              "    <tr>\n",
              "      <th>25%</th>\n",
              "      <td>11.408000</td>\n",
              "      <td>1008.90000</td>\n",
              "      <td>69.750000</td>\n",
              "      <td>3.723900</td>\n",
              "      <td>23.294000</td>\n",
              "      <td>1079.600000</td>\n",
              "      <td>542.170000</td>\n",
              "      <td>127.985000</td>\n",
              "      <td>11.622000</td>\n",
              "      <td>0.858055</td>\n",
              "      <td>61.303500</td>\n",
              "    </tr>\n",
              "    <tr>\n",
              "      <th>50%</th>\n",
              "      <td>18.186000</td>\n",
              "      <td>1012.80000</td>\n",
              "      <td>82.266000</td>\n",
              "      <td>4.186200</td>\n",
              "      <td>25.082000</td>\n",
              "      <td>1088.700000</td>\n",
              "      <td>549.890000</td>\n",
              "      <td>133.780000</td>\n",
              "      <td>12.025000</td>\n",
              "      <td>1.390200</td>\n",
              "      <td>66.601000</td>\n",
              "    </tr>\n",
              "    <tr>\n",
              "      <th>75%</th>\n",
              "      <td>23.862500</td>\n",
              "      <td>1016.90000</td>\n",
              "      <td>90.043500</td>\n",
              "      <td>4.550900</td>\n",
              "      <td>27.184000</td>\n",
              "      <td>1096.000000</td>\n",
              "      <td>550.060000</td>\n",
              "      <td>140.895000</td>\n",
              "      <td>12.578000</td>\n",
              "      <td>2.160400</td>\n",
              "      <td>73.935500</td>\n",
              "    </tr>\n",
              "    <tr>\n",
              "      <th>max</th>\n",
              "      <td>34.929000</td>\n",
              "      <td>1034.20000</td>\n",
              "      <td>100.200000</td>\n",
              "      <td>7.610600</td>\n",
              "      <td>37.402000</td>\n",
              "      <td>1100.800000</td>\n",
              "      <td>550.610000</td>\n",
              "      <td>174.610000</td>\n",
              "      <td>15.081000</td>\n",
              "      <td>44.103000</td>\n",
              "      <td>119.890000</td>\n",
              "    </tr>\n",
              "  </tbody>\n",
              "</table>\n",
              "</div>\n",
              "      <button class=\"colab-df-convert\" onclick=\"convertToInteractive('df-b917708c-7d7d-4a4b-9a0b-345d798a3553')\"\n",
              "              title=\"Convert this dataframe to an interactive table.\"\n",
              "              style=\"display:none;\">\n",
              "        \n",
              "  <svg xmlns=\"http://www.w3.org/2000/svg\" height=\"24px\"viewBox=\"0 0 24 24\"\n",
              "       width=\"24px\">\n",
              "    <path d=\"M0 0h24v24H0V0z\" fill=\"none\"/>\n",
              "    <path d=\"M18.56 5.44l.94 2.06.94-2.06 2.06-.94-2.06-.94-.94-2.06-.94 2.06-2.06.94zm-11 1L8.5 8.5l.94-2.06 2.06-.94-2.06-.94L8.5 2.5l-.94 2.06-2.06.94zm10 10l.94 2.06.94-2.06 2.06-.94-2.06-.94-.94-2.06-.94 2.06-2.06.94z\"/><path d=\"M17.41 7.96l-1.37-1.37c-.4-.4-.92-.59-1.43-.59-.52 0-1.04.2-1.43.59L10.3 9.45l-7.72 7.72c-.78.78-.78 2.05 0 2.83L4 21.41c.39.39.9.59 1.41.59.51 0 1.02-.2 1.41-.59l7.78-7.78 2.81-2.81c.8-.78.8-2.07 0-2.86zM5.41 20L4 18.59l7.72-7.72 1.47 1.35L5.41 20z\"/>\n",
              "  </svg>\n",
              "      </button>\n",
              "      \n",
              "  <style>\n",
              "    .colab-df-container {\n",
              "      display:flex;\n",
              "      flex-wrap:wrap;\n",
              "      gap: 12px;\n",
              "    }\n",
              "\n",
              "    .colab-df-convert {\n",
              "      background-color: #E8F0FE;\n",
              "      border: none;\n",
              "      border-radius: 50%;\n",
              "      cursor: pointer;\n",
              "      display: none;\n",
              "      fill: #1967D2;\n",
              "      height: 32px;\n",
              "      padding: 0 0 0 0;\n",
              "      width: 32px;\n",
              "    }\n",
              "\n",
              "    .colab-df-convert:hover {\n",
              "      background-color: #E2EBFA;\n",
              "      box-shadow: 0px 1px 2px rgba(60, 64, 67, 0.3), 0px 1px 3px 1px rgba(60, 64, 67, 0.15);\n",
              "      fill: #174EA6;\n",
              "    }\n",
              "\n",
              "    [theme=dark] .colab-df-convert {\n",
              "      background-color: #3B4455;\n",
              "      fill: #D2E3FC;\n",
              "    }\n",
              "\n",
              "    [theme=dark] .colab-df-convert:hover {\n",
              "      background-color: #434B5C;\n",
              "      box-shadow: 0px 1px 3px 1px rgba(0, 0, 0, 0.15);\n",
              "      filter: drop-shadow(0px 1px 2px rgba(0, 0, 0, 0.3));\n",
              "      fill: #FFFFFF;\n",
              "    }\n",
              "  </style>\n",
              "\n",
              "      <script>\n",
              "        const buttonEl =\n",
              "          document.querySelector('#df-b917708c-7d7d-4a4b-9a0b-345d798a3553 button.colab-df-convert');\n",
              "        buttonEl.style.display =\n",
              "          google.colab.kernel.accessAllowed ? 'block' : 'none';\n",
              "\n",
              "        async function convertToInteractive(key) {\n",
              "          const element = document.querySelector('#df-b917708c-7d7d-4a4b-9a0b-345d798a3553');\n",
              "          const dataTable =\n",
              "            await google.colab.kernel.invokeFunction('convertToInteractive',\n",
              "                                                     [key], {});\n",
              "          if (!dataTable) return;\n",
              "\n",
              "          const docLinkHtml = 'Like what you see? Visit the ' +\n",
              "            '<a target=\"_blank\" href=https://colab.research.google.com/notebooks/data_table.ipynb>data table notebook</a>'\n",
              "            + ' to learn more about interactive tables.';\n",
              "          element.innerHTML = '';\n",
              "          dataTable['output_type'] = 'display_data';\n",
              "          await google.colab.output.renderOutput(dataTable, element);\n",
              "          const docLink = document.createElement('div');\n",
              "          docLink.innerHTML = docLinkHtml;\n",
              "          element.appendChild(docLink);\n",
              "        }\n",
              "      </script>\n",
              "    </div>\n",
              "  </div>\n",
              "  "
            ]
          },
          "metadata": {},
          "execution_count": 58
        }
      ]
    },
    {
      "cell_type": "code",
      "source": [
        "Gasturbines_data.info()"
      ],
      "metadata": {
        "colab": {
          "base_uri": "https://localhost:8080/"
        },
        "id": "cx-DeW0YYlV6",
        "outputId": "9e319db4-9d99-41f6-d424-65dc2d555420"
      },
      "execution_count": 59,
      "outputs": [
        {
          "output_type": "stream",
          "name": "stdout",
          "text": [
            "<class 'pandas.core.frame.DataFrame'>\n",
            "RangeIndex: 15039 entries, 0 to 15038\n",
            "Data columns (total 11 columns):\n",
            " #   Column  Non-Null Count  Dtype  \n",
            "---  ------  --------------  -----  \n",
            " 0   AT      15039 non-null  float64\n",
            " 1   AP      15039 non-null  float64\n",
            " 2   AH      15039 non-null  float64\n",
            " 3   AFDP    15039 non-null  float64\n",
            " 4   GTEP    15039 non-null  float64\n",
            " 5   TIT     15039 non-null  float64\n",
            " 6   TAT     15039 non-null  float64\n",
            " 7   TEY     15039 non-null  float64\n",
            " 8   CDP     15039 non-null  float64\n",
            " 9   CO      15039 non-null  float64\n",
            " 10  NOX     15039 non-null  float64\n",
            "dtypes: float64(11)\n",
            "memory usage: 1.3 MB\n"
          ]
        }
      ]
    },
    {
      "cell_type": "markdown",
      "source": [
        " Label Encoding"
      ],
      "metadata": {
        "id": "aZf81XCGY_CE"
      }
    },
    {
      "cell_type": "code",
      "source": [
        "from sklearn.preprocessing import LabelEncoder\n",
        "LE = LabelEncoder()\n",
        "Gasturbines_data['TEY'] = LE.fit_transform(Gasturbines_data['TEY'])"
      ],
      "metadata": {
        "id": "i-rtPyS8Y-PR"
      },
      "execution_count": 61,
      "outputs": []
    },
    {
      "cell_type": "code",
      "source": [
        "Gasturbines_data"
      ],
      "metadata": {
        "colab": {
          "base_uri": "https://localhost:8080/",
          "height": 424
        },
        "id": "8IRFJHiXZV4r",
        "outputId": "ddd8a13a-b215-4c2e-e86c-f706cdddc5a0"
      },
      "execution_count": 62,
      "outputs": [
        {
          "output_type": "execute_result",
          "data": {
            "text/plain": [
              "           AT      AP      AH    AFDP    GTEP     TIT     TAT  TEY     CDP  \\\n",
              "0      6.8594  1007.9  96.799  3.5000  19.663  1059.2  550.00  707  10.605   \n",
              "1      6.7850  1008.4  97.118  3.4998  19.728  1059.3  550.00  709  10.598   \n",
              "2      6.8977  1008.8  95.939  3.4824  19.779  1059.4  549.87  708  10.601   \n",
              "3      7.0569  1009.2  95.249  3.4805  19.792  1059.6  549.99  709  10.606   \n",
              "4      7.3978  1009.7  95.150  3.4976  19.765  1059.7  549.98  709  10.612   \n",
              "...       ...     ...     ...     ...     ...     ...     ...  ...     ...   \n",
              "15034  9.0301  1005.6  98.460  3.5421  19.164  1049.7  546.21  491  10.400   \n",
              "15035  7.8879  1005.9  99.093  3.5059  19.414  1046.3  543.22  508  10.433   \n",
              "15036  7.2647  1006.3  99.496  3.4770  19.530  1037.7  537.32  352  10.483   \n",
              "15037  7.0060  1006.8  99.008  3.4486  19.377  1043.2  541.24  406  10.533   \n",
              "15038  6.9279  1007.2  97.533  3.4275  19.306  1049.9  545.85  488  10.583   \n",
              "\n",
              "           CO     NOX  \n",
              "0      3.1547  82.722  \n",
              "1      3.2363  82.776  \n",
              "2      3.2012  82.468  \n",
              "3      3.1923  82.670  \n",
              "4      3.2484  82.311  \n",
              "...       ...     ...  \n",
              "15034  4.5186  79.559  \n",
              "15035  4.8470  79.917  \n",
              "15036  7.9632  90.912  \n",
              "15037  6.2494  93.227  \n",
              "15038  4.9816  92.498  \n",
              "\n",
              "[15039 rows x 11 columns]"
            ],
            "text/html": [
              "\n",
              "  <div id=\"df-21d7dcb4-1eaa-4122-9f5b-596831cc8e00\">\n",
              "    <div class=\"colab-df-container\">\n",
              "      <div>\n",
              "<style scoped>\n",
              "    .dataframe tbody tr th:only-of-type {\n",
              "        vertical-align: middle;\n",
              "    }\n",
              "\n",
              "    .dataframe tbody tr th {\n",
              "        vertical-align: top;\n",
              "    }\n",
              "\n",
              "    .dataframe thead th {\n",
              "        text-align: right;\n",
              "    }\n",
              "</style>\n",
              "<table border=\"1\" class=\"dataframe\">\n",
              "  <thead>\n",
              "    <tr style=\"text-align: right;\">\n",
              "      <th></th>\n",
              "      <th>AT</th>\n",
              "      <th>AP</th>\n",
              "      <th>AH</th>\n",
              "      <th>AFDP</th>\n",
              "      <th>GTEP</th>\n",
              "      <th>TIT</th>\n",
              "      <th>TAT</th>\n",
              "      <th>TEY</th>\n",
              "      <th>CDP</th>\n",
              "      <th>CO</th>\n",
              "      <th>NOX</th>\n",
              "    </tr>\n",
              "  </thead>\n",
              "  <tbody>\n",
              "    <tr>\n",
              "      <th>0</th>\n",
              "      <td>6.8594</td>\n",
              "      <td>1007.9</td>\n",
              "      <td>96.799</td>\n",
              "      <td>3.5000</td>\n",
              "      <td>19.663</td>\n",
              "      <td>1059.2</td>\n",
              "      <td>550.00</td>\n",
              "      <td>707</td>\n",
              "      <td>10.605</td>\n",
              "      <td>3.1547</td>\n",
              "      <td>82.722</td>\n",
              "    </tr>\n",
              "    <tr>\n",
              "      <th>1</th>\n",
              "      <td>6.7850</td>\n",
              "      <td>1008.4</td>\n",
              "      <td>97.118</td>\n",
              "      <td>3.4998</td>\n",
              "      <td>19.728</td>\n",
              "      <td>1059.3</td>\n",
              "      <td>550.00</td>\n",
              "      <td>709</td>\n",
              "      <td>10.598</td>\n",
              "      <td>3.2363</td>\n",
              "      <td>82.776</td>\n",
              "    </tr>\n",
              "    <tr>\n",
              "      <th>2</th>\n",
              "      <td>6.8977</td>\n",
              "      <td>1008.8</td>\n",
              "      <td>95.939</td>\n",
              "      <td>3.4824</td>\n",
              "      <td>19.779</td>\n",
              "      <td>1059.4</td>\n",
              "      <td>549.87</td>\n",
              "      <td>708</td>\n",
              "      <td>10.601</td>\n",
              "      <td>3.2012</td>\n",
              "      <td>82.468</td>\n",
              "    </tr>\n",
              "    <tr>\n",
              "      <th>3</th>\n",
              "      <td>7.0569</td>\n",
              "      <td>1009.2</td>\n",
              "      <td>95.249</td>\n",
              "      <td>3.4805</td>\n",
              "      <td>19.792</td>\n",
              "      <td>1059.6</td>\n",
              "      <td>549.99</td>\n",
              "      <td>709</td>\n",
              "      <td>10.606</td>\n",
              "      <td>3.1923</td>\n",
              "      <td>82.670</td>\n",
              "    </tr>\n",
              "    <tr>\n",
              "      <th>4</th>\n",
              "      <td>7.3978</td>\n",
              "      <td>1009.7</td>\n",
              "      <td>95.150</td>\n",
              "      <td>3.4976</td>\n",
              "      <td>19.765</td>\n",
              "      <td>1059.7</td>\n",
              "      <td>549.98</td>\n",
              "      <td>709</td>\n",
              "      <td>10.612</td>\n",
              "      <td>3.2484</td>\n",
              "      <td>82.311</td>\n",
              "    </tr>\n",
              "    <tr>\n",
              "      <th>...</th>\n",
              "      <td>...</td>\n",
              "      <td>...</td>\n",
              "      <td>...</td>\n",
              "      <td>...</td>\n",
              "      <td>...</td>\n",
              "      <td>...</td>\n",
              "      <td>...</td>\n",
              "      <td>...</td>\n",
              "      <td>...</td>\n",
              "      <td>...</td>\n",
              "      <td>...</td>\n",
              "    </tr>\n",
              "    <tr>\n",
              "      <th>15034</th>\n",
              "      <td>9.0301</td>\n",
              "      <td>1005.6</td>\n",
              "      <td>98.460</td>\n",
              "      <td>3.5421</td>\n",
              "      <td>19.164</td>\n",
              "      <td>1049.7</td>\n",
              "      <td>546.21</td>\n",
              "      <td>491</td>\n",
              "      <td>10.400</td>\n",
              "      <td>4.5186</td>\n",
              "      <td>79.559</td>\n",
              "    </tr>\n",
              "    <tr>\n",
              "      <th>15035</th>\n",
              "      <td>7.8879</td>\n",
              "      <td>1005.9</td>\n",
              "      <td>99.093</td>\n",
              "      <td>3.5059</td>\n",
              "      <td>19.414</td>\n",
              "      <td>1046.3</td>\n",
              "      <td>543.22</td>\n",
              "      <td>508</td>\n",
              "      <td>10.433</td>\n",
              "      <td>4.8470</td>\n",
              "      <td>79.917</td>\n",
              "    </tr>\n",
              "    <tr>\n",
              "      <th>15036</th>\n",
              "      <td>7.2647</td>\n",
              "      <td>1006.3</td>\n",
              "      <td>99.496</td>\n",
              "      <td>3.4770</td>\n",
              "      <td>19.530</td>\n",
              "      <td>1037.7</td>\n",
              "      <td>537.32</td>\n",
              "      <td>352</td>\n",
              "      <td>10.483</td>\n",
              "      <td>7.9632</td>\n",
              "      <td>90.912</td>\n",
              "    </tr>\n",
              "    <tr>\n",
              "      <th>15037</th>\n",
              "      <td>7.0060</td>\n",
              "      <td>1006.8</td>\n",
              "      <td>99.008</td>\n",
              "      <td>3.4486</td>\n",
              "      <td>19.377</td>\n",
              "      <td>1043.2</td>\n",
              "      <td>541.24</td>\n",
              "      <td>406</td>\n",
              "      <td>10.533</td>\n",
              "      <td>6.2494</td>\n",
              "      <td>93.227</td>\n",
              "    </tr>\n",
              "    <tr>\n",
              "      <th>15038</th>\n",
              "      <td>6.9279</td>\n",
              "      <td>1007.2</td>\n",
              "      <td>97.533</td>\n",
              "      <td>3.4275</td>\n",
              "      <td>19.306</td>\n",
              "      <td>1049.9</td>\n",
              "      <td>545.85</td>\n",
              "      <td>488</td>\n",
              "      <td>10.583</td>\n",
              "      <td>4.9816</td>\n",
              "      <td>92.498</td>\n",
              "    </tr>\n",
              "  </tbody>\n",
              "</table>\n",
              "<p>15039 rows × 11 columns</p>\n",
              "</div>\n",
              "      <button class=\"colab-df-convert\" onclick=\"convertToInteractive('df-21d7dcb4-1eaa-4122-9f5b-596831cc8e00')\"\n",
              "              title=\"Convert this dataframe to an interactive table.\"\n",
              "              style=\"display:none;\">\n",
              "        \n",
              "  <svg xmlns=\"http://www.w3.org/2000/svg\" height=\"24px\"viewBox=\"0 0 24 24\"\n",
              "       width=\"24px\">\n",
              "    <path d=\"M0 0h24v24H0V0z\" fill=\"none\"/>\n",
              "    <path d=\"M18.56 5.44l.94 2.06.94-2.06 2.06-.94-2.06-.94-.94-2.06-.94 2.06-2.06.94zm-11 1L8.5 8.5l.94-2.06 2.06-.94-2.06-.94L8.5 2.5l-.94 2.06-2.06.94zm10 10l.94 2.06.94-2.06 2.06-.94-2.06-.94-.94-2.06-.94 2.06-2.06.94z\"/><path d=\"M17.41 7.96l-1.37-1.37c-.4-.4-.92-.59-1.43-.59-.52 0-1.04.2-1.43.59L10.3 9.45l-7.72 7.72c-.78.78-.78 2.05 0 2.83L4 21.41c.39.39.9.59 1.41.59.51 0 1.02-.2 1.41-.59l7.78-7.78 2.81-2.81c.8-.78.8-2.07 0-2.86zM5.41 20L4 18.59l7.72-7.72 1.47 1.35L5.41 20z\"/>\n",
              "  </svg>\n",
              "      </button>\n",
              "      \n",
              "  <style>\n",
              "    .colab-df-container {\n",
              "      display:flex;\n",
              "      flex-wrap:wrap;\n",
              "      gap: 12px;\n",
              "    }\n",
              "\n",
              "    .colab-df-convert {\n",
              "      background-color: #E8F0FE;\n",
              "      border: none;\n",
              "      border-radius: 50%;\n",
              "      cursor: pointer;\n",
              "      display: none;\n",
              "      fill: #1967D2;\n",
              "      height: 32px;\n",
              "      padding: 0 0 0 0;\n",
              "      width: 32px;\n",
              "    }\n",
              "\n",
              "    .colab-df-convert:hover {\n",
              "      background-color: #E2EBFA;\n",
              "      box-shadow: 0px 1px 2px rgba(60, 64, 67, 0.3), 0px 1px 3px 1px rgba(60, 64, 67, 0.15);\n",
              "      fill: #174EA6;\n",
              "    }\n",
              "\n",
              "    [theme=dark] .colab-df-convert {\n",
              "      background-color: #3B4455;\n",
              "      fill: #D2E3FC;\n",
              "    }\n",
              "\n",
              "    [theme=dark] .colab-df-convert:hover {\n",
              "      background-color: #434B5C;\n",
              "      box-shadow: 0px 1px 3px 1px rgba(0, 0, 0, 0.15);\n",
              "      filter: drop-shadow(0px 1px 2px rgba(0, 0, 0, 0.3));\n",
              "      fill: #FFFFFF;\n",
              "    }\n",
              "  </style>\n",
              "\n",
              "      <script>\n",
              "        const buttonEl =\n",
              "          document.querySelector('#df-21d7dcb4-1eaa-4122-9f5b-596831cc8e00 button.colab-df-convert');\n",
              "        buttonEl.style.display =\n",
              "          google.colab.kernel.accessAllowed ? 'block' : 'none';\n",
              "\n",
              "        async function convertToInteractive(key) {\n",
              "          const element = document.querySelector('#df-21d7dcb4-1eaa-4122-9f5b-596831cc8e00');\n",
              "          const dataTable =\n",
              "            await google.colab.kernel.invokeFunction('convertToInteractive',\n",
              "                                                     [key], {});\n",
              "          if (!dataTable) return;\n",
              "\n",
              "          const docLinkHtml = 'Like what you see? Visit the ' +\n",
              "            '<a target=\"_blank\" href=https://colab.research.google.com/notebooks/data_table.ipynb>data table notebook</a>'\n",
              "            + ' to learn more about interactive tables.';\n",
              "          element.innerHTML = '';\n",
              "          dataTable['output_type'] = 'display_data';\n",
              "          await google.colab.output.renderOutput(dataTable, element);\n",
              "          const docLink = document.createElement('div');\n",
              "          docLink.innerHTML = docLinkHtml;\n",
              "          element.appendChild(docLink);\n",
              "        }\n",
              "      </script>\n",
              "    </div>\n",
              "  </div>\n",
              "  "
            ]
          },
          "metadata": {},
          "execution_count": 62
        }
      ]
    },
    {
      "cell_type": "markdown",
      "source": [
        "# split into input (X) and output (Y) variables"
      ],
      "metadata": {
        "id": "Kpq4OTlkNVED"
      }
    },
    {
      "cell_type": "code",
      "source": [
        "X = Gasturbines_data.drop(\"TEY\",axis=1)"
      ],
      "metadata": {
        "id": "_kHXwWhZNGKV"
      },
      "execution_count": 64,
      "outputs": []
    },
    {
      "cell_type": "code",
      "source": [
        "X.shape"
      ],
      "metadata": {
        "colab": {
          "base_uri": "https://localhost:8080/"
        },
        "id": "VT6fOhkANamy",
        "outputId": "a5863e29-2074-418d-dd50-f1aae8177913"
      },
      "execution_count": 66,
      "outputs": [
        {
          "output_type": "execute_result",
          "data": {
            "text/plain": [
              "(15039, 10)"
            ]
          },
          "metadata": {},
          "execution_count": 66
        }
      ]
    },
    {
      "cell_type": "code",
      "source": [
        "Y = Gasturbines_data[\"TEY\"]"
      ],
      "metadata": {
        "id": "fdtkjTz3Ng2v"
      },
      "execution_count": 67,
      "outputs": []
    },
    {
      "cell_type": "code",
      "source": [
        "Y"
      ],
      "metadata": {
        "colab": {
          "base_uri": "https://localhost:8080/"
        },
        "id": "QTUFYIYKN4Ey",
        "outputId": "e0ea1aad-20e4-42ed-8c98-f17dde22520d"
      },
      "execution_count": 72,
      "outputs": [
        {
          "output_type": "execute_result",
          "data": {
            "text/plain": [
              "0        707\n",
              "1        709\n",
              "2        708\n",
              "3        709\n",
              "4        709\n",
              "        ... \n",
              "15034    491\n",
              "15035    508\n",
              "15036    352\n",
              "15037    406\n",
              "15038    488\n",
              "Name: TEY, Length: 15039, dtype: int64"
            ]
          },
          "metadata": {},
          "execution_count": 72
        }
      ]
    },
    {
      "cell_type": "markdown",
      "source": [
        " create model"
      ],
      "metadata": {
        "id": "1T3i-H9dOFO6"
      }
    },
    {
      "cell_type": "code",
      "source": [
        "from tensorflow.keras.layers import Dense\n",
        "from tensorflow.keras.models import Sequential"
      ],
      "metadata": {
        "id": "W9D3uFcyOAkr"
      },
      "execution_count": 73,
      "outputs": []
    },
    {
      "cell_type": "code",
      "source": [
        "model = Sequential()\n",
        "model.add(Dense(45,input_dim=10,  activation='relu')) #input layer\n",
        "model.add(Dense(1, activation='sigmoid')) #output layer"
      ],
      "metadata": {
        "id": "5JuBtJN-OLau"
      },
      "execution_count": 75,
      "outputs": []
    },
    {
      "cell_type": "markdown",
      "source": [
        "Compile model"
      ],
      "metadata": {
        "id": "mi9M9-tuOgVr"
      }
    },
    {
      "cell_type": "code",
      "source": [
        "model.compile(loss='binary_crossentropy', optimizer='adam', metrics=['accuracy'])"
      ],
      "metadata": {
        "id": "2Ns6P5EJOfJK"
      },
      "execution_count": 78,
      "outputs": []
    },
    {
      "cell_type": "markdown",
      "source": [
        "Fitting The Model"
      ],
      "metadata": {
        "id": "eNUxObPTOqLV"
      }
    },
    {
      "cell_type": "code",
      "source": [
        "history = model.fit(X, Y, validation_split=0.33, epochs=100, batch_size=10)"
      ],
      "metadata": {
        "colab": {
          "base_uri": "https://localhost:8080/"
        },
        "id": "D0Od_e-hOlpx",
        "outputId": "526cdff9-9eb7-479c-fbed-accd769a18c4"
      },
      "execution_count": 79,
      "outputs": [
        {
          "output_type": "stream",
          "name": "stdout",
          "text": [
            "Epoch 1/100\n",
            "1008/1008 [==============================] - 3s 2ms/step - loss: -18138445824.0000 - accuracy: 0.0000e+00 - val_loss: -17105912832.0000 - val_accuracy: 2.0149e-04\n",
            "Epoch 2/100\n",
            "1008/1008 [==============================] - 2s 2ms/step - loss: -20506662912.0000 - accuracy: 0.0000e+00 - val_loss: -19286788096.0000 - val_accuracy: 2.0149e-04\n",
            "Epoch 3/100\n",
            "1008/1008 [==============================] - 2s 2ms/step - loss: -23056496640.0000 - accuracy: 0.0000e+00 - val_loss: -21624270848.0000 - val_accuracy: 2.0149e-04\n",
            "Epoch 4/100\n",
            "1008/1008 [==============================] - 2s 2ms/step - loss: -25773600768.0000 - accuracy: 0.0000e+00 - val_loss: -24104892416.0000 - val_accuracy: 2.0149e-04\n",
            "Epoch 5/100\n",
            "1008/1008 [==============================] - 3s 3ms/step - loss: -28649500672.0000 - accuracy: 0.0000e+00 - val_loss: -26721959936.0000 - val_accuracy: 2.0149e-04\n",
            "Epoch 6/100\n",
            "1008/1008 [==============================] - 2s 2ms/step - loss: -31677794304.0000 - accuracy: 0.0000e+00 - val_loss: -29473789952.0000 - val_accuracy: 2.0149e-04\n",
            "Epoch 7/100\n",
            "1008/1008 [==============================] - 2s 2ms/step - loss: -34859089920.0000 - accuracy: 0.0000e+00 - val_loss: -32358236160.0000 - val_accuracy: 2.0149e-04\n",
            "Epoch 8/100\n",
            "1008/1008 [==============================] - 2s 2ms/step - loss: -38181056512.0000 - accuracy: 0.0000e+00 - val_loss: -35367075840.0000 - val_accuracy: 2.0149e-04\n",
            "Epoch 9/100\n",
            "1008/1008 [==============================] - 2s 2ms/step - loss: -41648680960.0000 - accuracy: 0.0000e+00 - val_loss: -38506455040.0000 - val_accuracy: 2.0149e-04\n",
            "Epoch 10/100\n",
            "1008/1008 [==============================] - 2s 2ms/step - loss: -45258080256.0000 - accuracy: 0.0000e+00 - val_loss: -41767903232.0000 - val_accuracy: 2.0149e-04\n",
            "Epoch 11/100\n",
            "1008/1008 [==============================] - 2s 2ms/step - loss: -49015021568.0000 - accuracy: 0.0000e+00 - val_loss: -45167067136.0000 - val_accuracy: 2.0149e-04\n",
            "Epoch 12/100\n",
            "1008/1008 [==============================] - 2s 2ms/step - loss: -52915130368.0000 - accuracy: 0.0000e+00 - val_loss: -48685518848.0000 - val_accuracy: 2.0149e-04\n",
            "Epoch 13/100\n",
            "1008/1008 [==============================] - 2s 2ms/step - loss: -56959488000.0000 - accuracy: 0.0000e+00 - val_loss: -52335607808.0000 - val_accuracy: 2.0149e-04\n",
            "Epoch 14/100\n",
            "1008/1008 [==============================] - 2s 2ms/step - loss: -61144600576.0000 - accuracy: 0.0000e+00 - val_loss: -56109817856.0000 - val_accuracy: 2.0149e-04\n",
            "Epoch 15/100\n",
            "1008/1008 [==============================] - 2s 2ms/step - loss: -65476505600.0000 - accuracy: 0.0000e+00 - val_loss: -60011819008.0000 - val_accuracy: 2.0149e-04\n",
            "Epoch 16/100\n",
            "1008/1008 [==============================] - 2s 2ms/step - loss: -69941288960.0000 - accuracy: 0.0000e+00 - val_loss: -64029118464.0000 - val_accuracy: 2.0149e-04\n",
            "Epoch 17/100\n",
            "1008/1008 [==============================] - 2s 2ms/step - loss: -74545725440.0000 - accuracy: 0.0000e+00 - val_loss: -68179034112.0000 - val_accuracy: 2.0149e-04\n",
            "Epoch 18/100\n",
            "1008/1008 [==============================] - 2s 2ms/step - loss: -79307415552.0000 - accuracy: 0.0000e+00 - val_loss: -72467243008.0000 - val_accuracy: 2.0149e-04\n",
            "Epoch 19/100\n",
            "1008/1008 [==============================] - 2s 2ms/step - loss: -84207624192.0000 - accuracy: 0.0000e+00 - val_loss: -76870574080.0000 - val_accuracy: 2.0149e-04\n",
            "Epoch 20/100\n",
            "1008/1008 [==============================] - 2s 2ms/step - loss: -89250979840.0000 - accuracy: 0.0000e+00 - val_loss: -81408917504.0000 - val_accuracy: 2.0149e-04\n",
            "Epoch 21/100\n",
            "1008/1008 [==============================] - 2s 2ms/step - loss: -94430920704.0000 - accuracy: 0.0000e+00 - val_loss: -86059819008.0000 - val_accuracy: 2.0149e-04\n",
            "Epoch 22/100\n",
            "1008/1008 [==============================] - 2s 2ms/step - loss: -99752853504.0000 - accuracy: 0.0000e+00 - val_loss: -90844495872.0000 - val_accuracy: 2.0149e-04\n",
            "Epoch 23/100\n",
            "1008/1008 [==============================] - 2s 2ms/step - loss: -105218596864.0000 - accuracy: 0.0000e+00 - val_loss: -95750660096.0000 - val_accuracy: 2.0149e-04\n",
            "Epoch 24/100\n",
            "1008/1008 [==============================] - 2s 2ms/step - loss: -110824071168.0000 - accuracy: 0.0000e+00 - val_loss: -100780425216.0000 - val_accuracy: 2.0149e-04\n",
            "Epoch 25/100\n",
            "1008/1008 [==============================] - 2s 2ms/step - loss: -116577607680.0000 - accuracy: 0.0000e+00 - val_loss: -105952075776.0000 - val_accuracy: 2.0149e-04\n",
            "Epoch 26/100\n",
            "1008/1008 [==============================] - 2s 2ms/step - loss: -122465861632.0000 - accuracy: 0.0000e+00 - val_loss: -111227985920.0000 - val_accuracy: 2.0149e-04\n",
            "Epoch 27/100\n",
            "1008/1008 [==============================] - 2s 2ms/step - loss: -128497729536.0000 - accuracy: 0.0000e+00 - val_loss: -116648148992.0000 - val_accuracy: 2.0149e-04\n",
            "Epoch 28/100\n",
            "1008/1008 [==============================] - 2s 2ms/step - loss: -134672089088.0000 - accuracy: 0.0000e+00 - val_loss: -122174603264.0000 - val_accuracy: 2.0149e-04\n",
            "Epoch 29/100\n",
            "1008/1008 [==============================] - 2s 2ms/step - loss: -140990775296.0000 - accuracy: 0.0000e+00 - val_loss: -127846047744.0000 - val_accuracy: 2.0149e-04\n",
            "Epoch 30/100\n",
            "1008/1008 [==============================] - 2s 2ms/step - loss: -147452100608.0000 - accuracy: 0.0000e+00 - val_loss: -133634760704.0000 - val_accuracy: 2.0149e-04\n",
            "Epoch 31/100\n",
            "1008/1008 [==============================] - 2s 2ms/step - loss: -154067959808.0000 - accuracy: 0.0000e+00 - val_loss: -139570282496.0000 - val_accuracy: 2.0149e-04\n",
            "Epoch 32/100\n",
            "1008/1008 [==============================] - 2s 2ms/step - loss: -160808222720.0000 - accuracy: 0.0000e+00 - val_loss: -145591304192.0000 - val_accuracy: 2.0149e-04\n",
            "Epoch 33/100\n",
            "1008/1008 [==============================] - 2s 2ms/step - loss: -167675576320.0000 - accuracy: 0.0000e+00 - val_loss: -151744954368.0000 - val_accuracy: 2.0149e-04\n",
            "Epoch 34/100\n",
            "1008/1008 [==============================] - 2s 2ms/step - loss: -174686191616.0000 - accuracy: 0.0000e+00 - val_loss: -158022074368.0000 - val_accuracy: 2.0149e-04\n",
            "Epoch 35/100\n",
            "1008/1008 [==============================] - 2s 2ms/step - loss: -181848817664.0000 - accuracy: 0.0000e+00 - val_loss: -164445519872.0000 - val_accuracy: 2.0149e-04\n",
            "Epoch 36/100\n",
            "1008/1008 [==============================] - 2s 2ms/step - loss: -189154738176.0000 - accuracy: 0.0000e+00 - val_loss: -170980016128.0000 - val_accuracy: 2.0149e-04\n",
            "Epoch 37/100\n",
            "1008/1008 [==============================] - 2s 2ms/step - loss: -196593172480.0000 - accuracy: 0.0000e+00 - val_loss: -177635164160.0000 - val_accuracy: 2.0149e-04\n",
            "Epoch 38/100\n",
            "1008/1008 [==============================] - 2s 2ms/step - loss: -204182650880.0000 - accuracy: 0.0000e+00 - val_loss: -184430657536.0000 - val_accuracy: 2.0149e-04\n",
            "Epoch 39/100\n",
            "1008/1008 [==============================] - 3s 2ms/step - loss: -211913949184.0000 - accuracy: 0.0000e+00 - val_loss: -191342231552.0000 - val_accuracy: 2.0149e-04\n",
            "Epoch 40/100\n",
            "1008/1008 [==============================] - 3s 2ms/step - loss: -219770519552.0000 - accuracy: 0.0000e+00 - val_loss: -198373605376.0000 - val_accuracy: 2.0149e-04\n",
            "Epoch 41/100\n",
            "1008/1008 [==============================] - 2s 2ms/step - loss: -227775447040.0000 - accuracy: 0.0000e+00 - val_loss: -205532348416.0000 - val_accuracy: 2.0149e-04\n",
            "Epoch 42/100\n",
            "1008/1008 [==============================] - 2s 2ms/step - loss: -235923537920.0000 - accuracy: 0.0000e+00 - val_loss: -212817739776.0000 - val_accuracy: 2.0149e-04\n",
            "Epoch 43/100\n",
            "1008/1008 [==============================] - 2s 2ms/step - loss: -244209876992.0000 - accuracy: 0.0000e+00 - val_loss: -220231139328.0000 - val_accuracy: 2.0149e-04\n",
            "Epoch 44/100\n",
            "1008/1008 [==============================] - 2s 2ms/step - loss: -252639756288.0000 - accuracy: 0.0000e+00 - val_loss: -227763781632.0000 - val_accuracy: 2.0149e-04\n",
            "Epoch 45/100\n",
            "1008/1008 [==============================] - 2s 2ms/step - loss: -261211389952.0000 - accuracy: 0.0000e+00 - val_loss: -235424055296.0000 - val_accuracy: 2.0149e-04\n",
            "Epoch 46/100\n",
            "1008/1008 [==============================] - 2s 2ms/step - loss: -269923762176.0000 - accuracy: 0.0000e+00 - val_loss: -243208978432.0000 - val_accuracy: 2.0149e-04\n",
            "Epoch 47/100\n",
            "1008/1008 [==============================] - 2s 2ms/step - loss: -278780968960.0000 - accuracy: 0.0000e+00 - val_loss: -251128561664.0000 - val_accuracy: 2.0149e-04\n",
            "Epoch 48/100\n",
            "1008/1008 [==============================] - 2s 2ms/step - loss: -287779749888.0000 - accuracy: 0.0000e+00 - val_loss: -259164045312.0000 - val_accuracy: 2.0149e-04\n",
            "Epoch 49/100\n",
            "1008/1008 [==============================] - 2s 2ms/step - loss: -296904065024.0000 - accuracy: 0.0000e+00 - val_loss: -267317477376.0000 - val_accuracy: 2.0149e-04\n",
            "Epoch 50/100\n",
            "1008/1008 [==============================] - 2s 2ms/step - loss: -306172133376.0000 - accuracy: 0.0000e+00 - val_loss: -275602767872.0000 - val_accuracy: 2.0149e-04\n",
            "Epoch 51/100\n",
            "1008/1008 [==============================] - 2s 2ms/step - loss: -315585855488.0000 - accuracy: 0.0000e+00 - val_loss: -284005400576.0000 - val_accuracy: 2.0149e-04\n",
            "Epoch 52/100\n",
            "1008/1008 [==============================] - 2s 2ms/step - loss: -325117575168.0000 - accuracy: 0.0000e+00 - val_loss: -292514398208.0000 - val_accuracy: 2.0149e-04\n",
            "Epoch 53/100\n",
            "1008/1008 [==============================] - 2s 2ms/step - loss: -334819557376.0000 - accuracy: 0.0000e+00 - val_loss: -301192871936.0000 - val_accuracy: 2.0149e-04\n",
            "Epoch 54/100\n",
            "1008/1008 [==============================] - 2s 2ms/step - loss: -344658378752.0000 - accuracy: 0.0000e+00 - val_loss: -309966864384.0000 - val_accuracy: 2.0149e-04\n",
            "Epoch 55/100\n",
            "1008/1008 [==============================] - 2s 2ms/step - loss: -354637938688.0000 - accuracy: 0.0000e+00 - val_loss: -318883627008.0000 - val_accuracy: 2.0149e-04\n",
            "Epoch 56/100\n",
            "1008/1008 [==============================] - 2s 2ms/step - loss: -364760727552.0000 - accuracy: 0.0000e+00 - val_loss: -327911702528.0000 - val_accuracy: 2.0149e-04\n",
            "Epoch 57/100\n",
            "1008/1008 [==============================] - 2s 2ms/step - loss: -375016914944.0000 - accuracy: 0.0000e+00 - val_loss: -337069473792.0000 - val_accuracy: 2.0149e-04\n",
            "Epoch 58/100\n",
            "1008/1008 [==============================] - 2s 2ms/step - loss: -385412988928.0000 - accuracy: 0.0000e+00 - val_loss: -346339475456.0000 - val_accuracy: 2.0149e-04\n",
            "Epoch 59/100\n",
            "1008/1008 [==============================] - 2s 2ms/step - loss: -395938529280.0000 - accuracy: 0.0000e+00 - val_loss: -355740385280.0000 - val_accuracy: 2.0149e-04\n",
            "Epoch 60/100\n",
            "1008/1008 [==============================] - 2s 2ms/step - loss: -406610837504.0000 - accuracy: 0.0000e+00 - val_loss: -365259948032.0000 - val_accuracy: 2.0149e-04\n",
            "Epoch 61/100\n",
            "1008/1008 [==============================] - 2s 2ms/step - loss: -417419853824.0000 - accuracy: 0.0000e+00 - val_loss: -374903635968.0000 - val_accuracy: 2.0149e-04\n",
            "Epoch 62/100\n",
            "1008/1008 [==============================] - 2s 2ms/step - loss: -428373770240.0000 - accuracy: 0.0000e+00 - val_loss: -384679116800.0000 - val_accuracy: 2.0149e-04\n",
            "Epoch 63/100\n",
            "1008/1008 [==============================] - 2s 2ms/step - loss: -439467343872.0000 - accuracy: 0.0000e+00 - val_loss: -394575249408.0000 - val_accuracy: 2.0149e-04\n",
            "Epoch 64/100\n",
            "1008/1008 [==============================] - 2s 2ms/step - loss: -450693922816.0000 - accuracy: 0.0000e+00 - val_loss: -404593311744.0000 - val_accuracy: 2.0149e-04\n",
            "Epoch 65/100\n",
            "1008/1008 [==============================] - 2s 2ms/step - loss: -462057865216.0000 - accuracy: 0.0000e+00 - val_loss: -414726324224.0000 - val_accuracy: 2.0149e-04\n",
            "Epoch 66/100\n",
            "1008/1008 [==============================] - 2s 2ms/step - loss: -473575227392.0000 - accuracy: 0.0000e+00 - val_loss: -425022488576.0000 - val_accuracy: 2.0149e-04\n",
            "Epoch 67/100\n",
            "1008/1008 [==============================] - 2s 2ms/step - loss: -485239455744.0000 - accuracy: 0.0000e+00 - val_loss: -435417808896.0000 - val_accuracy: 2.0149e-04\n",
            "Epoch 68/100\n",
            "1008/1008 [==============================] - 2s 2ms/step - loss: -497029873664.0000 - accuracy: 0.0000e+00 - val_loss: -445926768640.0000 - val_accuracy: 2.0149e-04\n",
            "Epoch 69/100\n",
            "1008/1008 [==============================] - 2s 2ms/step - loss: -508977905664.0000 - accuracy: 0.0000e+00 - val_loss: -456579612672.0000 - val_accuracy: 2.0149e-04\n",
            "Epoch 70/100\n",
            "1008/1008 [==============================] - 2s 2ms/step - loss: -521065922560.0000 - accuracy: 0.0000e+00 - val_loss: -467357368320.0000 - val_accuracy: 2.0149e-04\n",
            "Epoch 71/100\n",
            "1008/1008 [==============================] - 2s 2ms/step - loss: -533293858816.0000 - accuracy: 0.0000e+00 - val_loss: -478270619648.0000 - val_accuracy: 2.0149e-04\n",
            "Epoch 72/100\n",
            "1008/1008 [==============================] - 2s 2ms/step - loss: -545651261440.0000 - accuracy: 0.0000e+00 - val_loss: -489273524224.0000 - val_accuracy: 2.0149e-04\n",
            "Epoch 73/100\n",
            "1008/1008 [==============================] - 3s 2ms/step - loss: -558135967744.0000 - accuracy: 0.0000e+00 - val_loss: -500413890560.0000 - val_accuracy: 2.0149e-04\n",
            "Epoch 74/100\n",
            "1008/1008 [==============================] - 2s 2ms/step - loss: -570771111936.0000 - accuracy: 0.0000e+00 - val_loss: -511669895168.0000 - val_accuracy: 2.0149e-04\n",
            "Epoch 75/100\n",
            "1008/1008 [==============================] - 2s 2ms/step - loss: -583542571008.0000 - accuracy: 0.0000e+00 - val_loss: -523059724288.0000 - val_accuracy: 2.0149e-04\n",
            "Epoch 76/100\n",
            "1008/1008 [==============================] - 2s 2ms/step - loss: -596447723520.0000 - accuracy: 0.0000e+00 - val_loss: -534560014336.0000 - val_accuracy: 2.0149e-04\n",
            "Epoch 77/100\n",
            "1008/1008 [==============================] - 2s 2ms/step - loss: -609514749952.0000 - accuracy: 0.0000e+00 - val_loss: -546211266560.0000 - val_accuracy: 2.0149e-04\n",
            "Epoch 78/100\n",
            "1008/1008 [==============================] - 2s 2ms/step - loss: -622700855296.0000 - accuracy: 0.0000e+00 - val_loss: -557951746048.0000 - val_accuracy: 2.0149e-04\n",
            "Epoch 79/100\n",
            "1008/1008 [==============================] - 2s 2ms/step - loss: -636017180672.0000 - accuracy: 0.0000e+00 - val_loss: -569819529216.0000 - val_accuracy: 2.0149e-04\n",
            "Epoch 80/100\n",
            "1008/1008 [==============================] - 2s 2ms/step - loss: -649492496384.0000 - accuracy: 0.0000e+00 - val_loss: -581839486976.0000 - val_accuracy: 2.0149e-04\n",
            "Epoch 81/100\n",
            "1008/1008 [==============================] - 2s 2ms/step - loss: -663110483968.0000 - accuracy: 0.0000e+00 - val_loss: -593973542912.0000 - val_accuracy: 2.0149e-04\n",
            "Epoch 82/100\n",
            "1008/1008 [==============================] - 2s 2ms/step - loss: -676869832704.0000 - accuracy: 0.0000e+00 - val_loss: -606231199744.0000 - val_accuracy: 2.0149e-04\n",
            "Epoch 83/100\n",
            "1008/1008 [==============================] - 2s 2ms/step - loss: -690745245696.0000 - accuracy: 0.0000e+00 - val_loss: -618585391104.0000 - val_accuracy: 2.0149e-04\n",
            "Epoch 84/100\n",
            "1008/1008 [==============================] - 2s 2ms/step - loss: -704776896512.0000 - accuracy: 0.0000e+00 - val_loss: -631106043904.0000 - val_accuracy: 2.0149e-04\n",
            "Epoch 85/100\n",
            "1008/1008 [==============================] - 2s 2ms/step - loss: -718954102784.0000 - accuracy: 0.0000e+00 - val_loss: -643734372352.0000 - val_accuracy: 2.0149e-04\n",
            "Epoch 86/100\n",
            "1008/1008 [==============================] - 2s 2ms/step - loss: -733257531392.0000 - accuracy: 0.0000e+00 - val_loss: -656462315520.0000 - val_accuracy: 2.0149e-04\n",
            "Epoch 87/100\n",
            "1008/1008 [==============================] - 2s 2ms/step - loss: -747719426048.0000 - accuracy: 0.0000e+00 - val_loss: -669365043200.0000 - val_accuracy: 2.0149e-04\n",
            "Epoch 88/100\n",
            "1008/1008 [==============================] - 2s 2ms/step - loss: -762311344128.0000 - accuracy: 0.0000e+00 - val_loss: -682341695488.0000 - val_accuracy: 2.0149e-04\n",
            "Epoch 89/100\n",
            "1008/1008 [==============================] - 2s 2ms/step - loss: -777034661888.0000 - accuracy: 0.0000e+00 - val_loss: -695469932544.0000 - val_accuracy: 2.0149e-04\n",
            "Epoch 90/100\n",
            "1008/1008 [==============================] - 2s 2ms/step - loss: -791921754112.0000 - accuracy: 0.0000e+00 - val_loss: -708733173760.0000 - val_accuracy: 2.0149e-04\n",
            "Epoch 91/100\n",
            "1008/1008 [==============================] - 2s 2ms/step - loss: -806938542080.0000 - accuracy: 0.0000e+00 - val_loss: -722109726720.0000 - val_accuracy: 2.0149e-04\n",
            "Epoch 92/100\n",
            "1008/1008 [==============================] - 2s 2ms/step - loss: -822078275584.0000 - accuracy: 0.0000e+00 - val_loss: -735573245952.0000 - val_accuracy: 2.0149e-04\n",
            "Epoch 93/100\n",
            "1008/1008 [==============================] - 2s 2ms/step - loss: -837373067264.0000 - accuracy: 0.0000e+00 - val_loss: -749212336128.0000 - val_accuracy: 2.0149e-04\n",
            "Epoch 94/100\n",
            "1008/1008 [==============================] - 2s 2ms/step - loss: -852798668800.0000 - accuracy: 0.0000e+00 - val_loss: -762948288512.0000 - val_accuracy: 2.0149e-04\n",
            "Epoch 95/100\n",
            "1008/1008 [==============================] - 2s 2ms/step - loss: -868375789568.0000 - accuracy: 0.0000e+00 - val_loss: -776818393088.0000 - val_accuracy: 2.0149e-04\n",
            "Epoch 96/100\n",
            "1008/1008 [==============================] - 2s 2ms/step - loss: -884095975424.0000 - accuracy: 0.0000e+00 - val_loss: -790811049984.0000 - val_accuracy: 2.0149e-04\n",
            "Epoch 97/100\n",
            "1008/1008 [==============================] - 3s 2ms/step - loss: -899937140736.0000 - accuracy: 0.0000e+00 - val_loss: -804911185920.0000 - val_accuracy: 2.0149e-04\n",
            "Epoch 98/100\n",
            "1008/1008 [==============================] - 2s 2ms/step - loss: -915888144384.0000 - accuracy: 0.0000e+00 - val_loss: -819108904960.0000 - val_accuracy: 2.0149e-04\n",
            "Epoch 99/100\n",
            "1008/1008 [==============================] - 2s 2ms/step - loss: -932008099840.0000 - accuracy: 0.0000e+00 - val_loss: -833484816384.0000 - val_accuracy: 2.0149e-04\n",
            "Epoch 100/100\n",
            "1008/1008 [==============================] - 2s 2ms/step - loss: -948277084160.0000 - accuracy: 0.0000e+00 - val_loss: -847955886080.0000 - val_accuracy: 2.0149e-04\n"
          ]
        }
      ]
    },
    {
      "cell_type": "markdown",
      "source": [
        "# Evaluate the model"
      ],
      "metadata": {
        "id": "qnvZzhvCPbY_"
      }
    },
    {
      "cell_type": "code",
      "source": [
        "scores = model.evaluate(X, Y)\n",
        "print(\"%s: %.2f%%\" % (model.metrics_names[1], scores[1]*100))"
      ],
      "metadata": {
        "colab": {
          "base_uri": "https://localhost:8080/"
        },
        "id": "zqglgYPRPGT2",
        "outputId": "26412ca4-25a0-4868-9c96-2d71669f9f58"
      },
      "execution_count": 80,
      "outputs": [
        {
          "output_type": "stream",
          "name": "stdout",
          "text": [
            "470/470 [==============================] - 1s 1ms/step - loss: -920651628544.0000 - accuracy: 6.6494e-05\n",
            "accuracy: 0.01%\n"
          ]
        }
      ]
    },
    {
      "cell_type": "markdown",
      "source": [
        "  Visualize training history\n",
        "\n",
        "  list all data in history"
      ],
      "metadata": {
        "id": "Z0ZG2S76PsvU"
      }
    },
    {
      "cell_type": "code",
      "source": [
        "history.history.keys()"
      ],
      "metadata": {
        "colab": {
          "base_uri": "https://localhost:8080/"
        },
        "id": "t2OX7iZHPaLT",
        "outputId": "9542d568-53d9-4d81-8300-a396df6cd535"
      },
      "execution_count": 82,
      "outputs": [
        {
          "output_type": "execute_result",
          "data": {
            "text/plain": [
              "dict_keys(['loss', 'accuracy', 'val_loss', 'val_accuracy'])"
            ]
          },
          "metadata": {},
          "execution_count": 82
        }
      ]
    },
    {
      "cell_type": "markdown",
      "source": [
        " summarize history for accuracy"
      ],
      "metadata": {
        "id": "QrcoWkSkQmZj"
      }
    },
    {
      "cell_type": "code",
      "source": [
        "import matplotlib.pyplot as plt\n",
        "plt.plot(history.history['accuracy'])\n",
        "plt.plot(history.history['val_accuracy'])\n",
        "plt.title('model accuracy')\n",
        "plt.ylabel('accuracy')\n",
        "plt.xlabel('epoch')\n",
        "plt.legend(['train', 'test'], loc='upper left')\n",
        "plt.show()"
      ],
      "metadata": {
        "colab": {
          "base_uri": "https://localhost:8080/",
          "height": 295
        },
        "id": "4QHj0eaLQEKc",
        "outputId": "aa603d70-e2a0-49a1-e8cb-50344dc7392d"
      },
      "execution_count": 83,
      "outputs": [
        {
          "output_type": "display_data",
          "data": {
            "text/plain": [
              "<Figure size 432x288 with 1 Axes>"
            ],
            "image/png": "[encoded data removed]"
          },
          "metadata": {
            "needs_background": "light"
          }
        }
      ]
    },
    {
      "cell_type": "markdown",
      "source": [
        "summarize history for loss"
      ],
      "metadata": {
        "id": "lrRn6bMuQ0X9"
      }
    },
    {
      "cell_type": "code",
      "source": [
        "plt.plot(history.history['loss'])\n",
        "plt.plot(history.history['val_loss'])\n",
        "plt.title('model loss')\n",
        "plt.ylabel('loss')\n",
        "plt.xlabel('epoch')\n",
        "plt.legend(['train', 'test'], loc='upper left')\n",
        "plt.show()"
      ],
      "metadata": {
        "colab": {
          "base_uri": "https://localhost:8080/",
          "height": 295
        },
        "id": "zj7Eeev_QqWp",
        "outputId": "92d46aa9-7815-4def-b4ac-54448f86e39e"
      },
      "execution_count": 84,
      "outputs": [
        {
          "output_type": "display_data",
          "data": {
            "text/plain": [
              "<Figure size 432x288 with 1 Axes>"
            ],
            "image/png": "[encoded data removed]"
          },
          "metadata": {
            "needs_background": "light"
          }
        }
      ]
    },
    {
      "cell_type": "markdown",
      "source": [
        "Data set of gas_turbines.csv giving the results as:-->THE **TURBINE ENERGY YEILD(TEY)** IS 100%"
      ],
      "metadata": {
        "id": "b9i_hO-ZfqhN"
      }
    }
  ],
  "metadata": {
    "colab": {
      "collapsed_sections": [],
      "name": "NEURAL NET WORKS_gas _turbines._csv _solution",
      "provenance": []
    },
    "kernelspec": {
      "display_name": "Python 3",
      "name": "python3"
    },
    "language_info": {
      "name": "python"
    }
  },
  "nbformat": 4,
  "nbformat_minor": 0
}